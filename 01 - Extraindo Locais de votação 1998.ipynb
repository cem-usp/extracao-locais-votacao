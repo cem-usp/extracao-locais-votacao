{
 "cells": [
  {
   "cell_type": "code",
   "execution_count": 1,
   "metadata": {},
   "outputs": [],
   "source": [
    "import re\n",
    "import pandas as pd"
   ]
  },
  {
   "cell_type": "code",
   "execution_count": 2,
   "metadata": {},
   "outputs": [],
   "source": [
    "with open('data/LocalSP98.txt', 'r', errors='ignore') as f:\n",
    "    data = f.readlines()"
   ]
  },
  {
   "cell_type": "code",
   "execution_count": 3,
   "metadata": {},
   "outputs": [],
   "source": [
    "# removendo linhas em branco\n",
    "data = list(filter(lambda linha: linha != '\\n', data))"
   ]
  },
  {
   "cell_type": "code",
   "execution_count": 4,
   "metadata": {},
   "outputs": [],
   "source": [
    "# removendo cabecalho\n",
    "data = list(filter(lambda linha: not linha.startswith(' Tribunal Regional Eleitoral - SP'), data))\n",
    "data = list(filter(lambda linha: not linha.startswith(' Sistema de Alistamento Eleitoral'), data))\n",
    "data = list(filter(lambda linha: not linha.startswith(' Locais de Votacao/Secoes (Ordenado por ZONA)'), data))\n",
    "data = list(filter(lambda linha: linha != ' ------------------------------------------------------------------------------\\n', data))"
   ]
  },
  {
   "cell_type": "code",
   "execution_count": 5,
   "metadata": {},
   "outputs": [],
   "source": [
    "# removendo quebra de linha e espaco no comeco\n",
    "data = list(map(lambda linha: linha[1:-1], data))"
   ]
  },
  {
   "cell_type": "code",
   "execution_count": 7,
   "metadata": {},
   "outputs": [],
   "source": [
    "# data"
   ]
  },
  {
   "cell_type": "code",
   "execution_count": 8,
   "metadata": {},
   "outputs": [],
   "source": [
    "# Iterando sobre cada linha\n",
    "\n",
    "resultado = []\n",
    "padrao_cep = re.compile(\"[0-9]{5}[-]{0,1}[0-9]{3}\")\n",
    "padrao_secao_eleitores = re.compile(\"[0-9]{4}[/][0-9]{4}\")\n",
    "valida_secoes, valida_eleitores = [], []\n",
    "\n",
    "for i in data:\n",
    "    if i.startswith('Zona:'):\n",
    "        zona = i[-3:]\n",
    "\n",
    "    if i.startswith('Municipio'):\n",
    "        cod_municipio = i.split(' - ')[0].split(': ')[-1]\n",
    "        municipio = i.split(' - ')[-1]\n",
    "\n",
    "    if i.startswith('Local'):\n",
    "        cod_local = i.split(': ')[-1].split(' - ')[0]\n",
    "        local = i.split(': ')[-1].split(' - ')[1]\n",
    "    \n",
    "    if i.startswith('Endereco  :'):\n",
    "        endereco = i.split(':')[-1].lstrip()\n",
    "\n",
    "    if i.startswith('Bairro    :'):\n",
    "        bairro = i.split(':')[-1].lstrip()\n",
    "\n",
    "    if i.startswith('Cep       :'):\n",
    "        cep = padrao_cep.search(i).group()\n",
    "\n",
    "    if i.startswith('Secao/Eleitores:') or i.startswith('                '):\n",
    "        secao_eleitores = padrao_secao_eleitores.findall(i)\n",
    "        for s in secao_eleitores:\n",
    "            secao = s.split('/')[0]\n",
    "            eleitores = int(s.split('/')[1])\n",
    "            resultado.append([cod_municipio, municipio, cod_local, local, endereco, bairro, cep, zona, secao, eleitores])\n",
    "        # break\n",
    "\n",
    "    if i.startswith('Total Secoes/Eleitores:'):\n",
    "        valida_secoes.append(int(i.split(' /')[0].split(':')[-1]))\n",
    "        valida_eleitores.append(int(i.split(' /')[-1].replace('.', '')))\n",
    "        # resultado.append([cod_municipio, municipio, cod_local, local, endereco, bairro, cep, secao, eleitores])\n",
    "        # break\n",
    "\n",
    "    \n"
   ]
  },
  {
   "cell_type": "code",
   "execution_count": 10,
   "metadata": {},
   "outputs": [],
   "source": [
    "df_locais_votacao = pd.DataFrame(resultado, columns=['cod_municipio', 'municipio', 'cod_local', 'local', 'endereco', 'bairro', 'cep', 'zona', 'secao', 'eleitores'])"
   ]
  },
  {
   "cell_type": "code",
   "execution_count": 11,
   "metadata": {},
   "outputs": [
    {
     "data": {
      "text/html": [
       "<div>\n",
       "<style scoped>\n",
       "    .dataframe tbody tr th:only-of-type {\n",
       "        vertical-align: middle;\n",
       "    }\n",
       "\n",
       "    .dataframe tbody tr th {\n",
       "        vertical-align: top;\n",
       "    }\n",
       "\n",
       "    .dataframe thead th {\n",
       "        text-align: right;\n",
       "    }\n",
       "</style>\n",
       "<table border=\"1\" class=\"dataframe\">\n",
       "  <thead>\n",
       "    <tr style=\"text-align: right;\">\n",
       "      <th></th>\n",
       "      <th>cod_municipio</th>\n",
       "      <th>municipio</th>\n",
       "      <th>cod_local</th>\n",
       "      <th>local</th>\n",
       "      <th>endereco</th>\n",
       "      <th>bairro</th>\n",
       "      <th>cep</th>\n",
       "      <th>zona</th>\n",
       "      <th>secao</th>\n",
       "      <th>eleitores</th>\n",
       "    </tr>\n",
       "  </thead>\n",
       "  <tbody>\n",
       "    <tr>\n",
       "      <th>0</th>\n",
       "      <td>71072</td>\n",
       "      <td>SAO PAULO</td>\n",
       "      <td>1147</td>\n",
       "      <td>CENTRO DE CIENCIAS MATEMATICAS DA PUC</td>\n",
       "      <td>RUA MARQUES DE PARANAGUA, 111CONSOLACAO       ...</td>\n",
       "      <td>CENTRO</td>\n",
       "      <td>00000-000</td>\n",
       "      <td>001</td>\n",
       "      <td>0252</td>\n",
       "      <td>456</td>\n",
       "    </tr>\n",
       "    <tr>\n",
       "      <th>1</th>\n",
       "      <td>71072</td>\n",
       "      <td>SAO PAULO</td>\n",
       "      <td>1147</td>\n",
       "      <td>CENTRO DE CIENCIAS MATEMATICAS DA PUC</td>\n",
       "      <td>RUA MARQUES DE PARANAGUA, 111CONSOLACAO       ...</td>\n",
       "      <td>CENTRO</td>\n",
       "      <td>00000-000</td>\n",
       "      <td>001</td>\n",
       "      <td>0253</td>\n",
       "      <td>461</td>\n",
       "    </tr>\n",
       "    <tr>\n",
       "      <th>2</th>\n",
       "      <td>71072</td>\n",
       "      <td>SAO PAULO</td>\n",
       "      <td>1147</td>\n",
       "      <td>CENTRO DE CIENCIAS MATEMATICAS DA PUC</td>\n",
       "      <td>RUA MARQUES DE PARANAGUA, 111CONSOLACAO       ...</td>\n",
       "      <td>CENTRO</td>\n",
       "      <td>00000-000</td>\n",
       "      <td>001</td>\n",
       "      <td>0254</td>\n",
       "      <td>463</td>\n",
       "    </tr>\n",
       "    <tr>\n",
       "      <th>3</th>\n",
       "      <td>71072</td>\n",
       "      <td>SAO PAULO</td>\n",
       "      <td>1147</td>\n",
       "      <td>CENTRO DE CIENCIAS MATEMATICAS DA PUC</td>\n",
       "      <td>RUA MARQUES DE PARANAGUA, 111CONSOLACAO       ...</td>\n",
       "      <td>CENTRO</td>\n",
       "      <td>00000-000</td>\n",
       "      <td>001</td>\n",
       "      <td>0255</td>\n",
       "      <td>457</td>\n",
       "    </tr>\n",
       "    <tr>\n",
       "      <th>4</th>\n",
       "      <td>71072</td>\n",
       "      <td>SAO PAULO</td>\n",
       "      <td>1147</td>\n",
       "      <td>CENTRO DE CIENCIAS MATEMATICAS DA PUC</td>\n",
       "      <td>RUA MARQUES DE PARANAGUA, 111CONSOLACAO       ...</td>\n",
       "      <td>CENTRO</td>\n",
       "      <td>00000-000</td>\n",
       "      <td>001</td>\n",
       "      <td>0256</td>\n",
       "      <td>458</td>\n",
       "    </tr>\n",
       "    <tr>\n",
       "      <th>...</th>\n",
       "      <td>...</td>\n",
       "      <td>...</td>\n",
       "      <td>...</td>\n",
       "      <td>...</td>\n",
       "      <td>...</td>\n",
       "      <td>...</td>\n",
       "      <td>...</td>\n",
       "      <td>...</td>\n",
       "      <td>...</td>\n",
       "      <td>...</td>\n",
       "    </tr>\n",
       "    <tr>\n",
       "      <th>44828</th>\n",
       "      <td>71579</td>\n",
       "      <td>TABOAO DA SERRA</td>\n",
       "      <td>1082</td>\n",
       "      <td>EEPG. FRANCISCO D'AMICO</td>\n",
       "      <td>RUA ARLINDO GENARIO DE FREITAJARDIM SAPORITO  ...</td>\n",
       "      <td>CENTRO</td>\n",
       "      <td>00000-000</td>\n",
       "      <td>416</td>\n",
       "      <td>0083</td>\n",
       "      <td>466</td>\n",
       "    </tr>\n",
       "    <tr>\n",
       "      <th>44829</th>\n",
       "      <td>71579</td>\n",
       "      <td>TABOAO DA SERRA</td>\n",
       "      <td>1082</td>\n",
       "      <td>EEPG. FRANCISCO D'AMICO</td>\n",
       "      <td>RUA ARLINDO GENARIO DE FREITAJARDIM SAPORITO  ...</td>\n",
       "      <td>CENTRO</td>\n",
       "      <td>00000-000</td>\n",
       "      <td>416</td>\n",
       "      <td>0084</td>\n",
       "      <td>462</td>\n",
       "    </tr>\n",
       "    <tr>\n",
       "      <th>44830</th>\n",
       "      <td>71579</td>\n",
       "      <td>TABOAO DA SERRA</td>\n",
       "      <td>1082</td>\n",
       "      <td>EEPG. FRANCISCO D'AMICO</td>\n",
       "      <td>RUA ARLINDO GENARIO DE FREITAJARDIM SAPORITO  ...</td>\n",
       "      <td>CENTRO</td>\n",
       "      <td>00000-000</td>\n",
       "      <td>416</td>\n",
       "      <td>0085</td>\n",
       "      <td>472</td>\n",
       "    </tr>\n",
       "    <tr>\n",
       "      <th>44831</th>\n",
       "      <td>71579</td>\n",
       "      <td>TABOAO DA SERRA</td>\n",
       "      <td>1082</td>\n",
       "      <td>EEPG. FRANCISCO D'AMICO</td>\n",
       "      <td>RUA ARLINDO GENARIO DE FREITAJARDIM SAPORITO  ...</td>\n",
       "      <td>CENTRO</td>\n",
       "      <td>00000-000</td>\n",
       "      <td>416</td>\n",
       "      <td>0086</td>\n",
       "      <td>491</td>\n",
       "    </tr>\n",
       "    <tr>\n",
       "      <th>44832</th>\n",
       "      <td>71579</td>\n",
       "      <td>TABOAO DA SERRA</td>\n",
       "      <td>1112</td>\n",
       "      <td>EEPSG.LAURITA ORTEGA (ESP.DEF)</td>\n",
       "      <td>TSURUKI TSUNO                          JD.CLEM...</td>\n",
       "      <td>CENTRO</td>\n",
       "      <td>01000-000</td>\n",
       "      <td>416</td>\n",
       "      <td>0107</td>\n",
       "      <td>334</td>\n",
       "    </tr>\n",
       "  </tbody>\n",
       "</table>\n",
       "<p>44833 rows × 10 columns</p>\n",
       "</div>"
      ],
      "text/plain": [
       "      cod_municipio        municipio cod_local  \\\n",
       "0             71072        SAO PAULO      1147   \n",
       "1             71072        SAO PAULO      1147   \n",
       "2             71072        SAO PAULO      1147   \n",
       "3             71072        SAO PAULO      1147   \n",
       "4             71072        SAO PAULO      1147   \n",
       "...             ...              ...       ...   \n",
       "44828         71579  TABOAO DA SERRA      1082   \n",
       "44829         71579  TABOAO DA SERRA      1082   \n",
       "44830         71579  TABOAO DA SERRA      1082   \n",
       "44831         71579  TABOAO DA SERRA      1082   \n",
       "44832         71579  TABOAO DA SERRA      1112   \n",
       "\n",
       "                                       local  \\\n",
       "0      CENTRO DE CIENCIAS MATEMATICAS DA PUC   \n",
       "1      CENTRO DE CIENCIAS MATEMATICAS DA PUC   \n",
       "2      CENTRO DE CIENCIAS MATEMATICAS DA PUC   \n",
       "3      CENTRO DE CIENCIAS MATEMATICAS DA PUC   \n",
       "4      CENTRO DE CIENCIAS MATEMATICAS DA PUC   \n",
       "...                                      ...   \n",
       "44828                EEPG. FRANCISCO D'AMICO   \n",
       "44829                EEPG. FRANCISCO D'AMICO   \n",
       "44830                EEPG. FRANCISCO D'AMICO   \n",
       "44831                EEPG. FRANCISCO D'AMICO   \n",
       "44832         EEPSG.LAURITA ORTEGA (ESP.DEF)   \n",
       "\n",
       "                                                endereco  bairro        cep  \\\n",
       "0      RUA MARQUES DE PARANAGUA, 111CONSOLACAO       ...  CENTRO  00000-000   \n",
       "1      RUA MARQUES DE PARANAGUA, 111CONSOLACAO       ...  CENTRO  00000-000   \n",
       "2      RUA MARQUES DE PARANAGUA, 111CONSOLACAO       ...  CENTRO  00000-000   \n",
       "3      RUA MARQUES DE PARANAGUA, 111CONSOLACAO       ...  CENTRO  00000-000   \n",
       "4      RUA MARQUES DE PARANAGUA, 111CONSOLACAO       ...  CENTRO  00000-000   \n",
       "...                                                  ...     ...        ...   \n",
       "44828  RUA ARLINDO GENARIO DE FREITAJARDIM SAPORITO  ...  CENTRO  00000-000   \n",
       "44829  RUA ARLINDO GENARIO DE FREITAJARDIM SAPORITO  ...  CENTRO  00000-000   \n",
       "44830  RUA ARLINDO GENARIO DE FREITAJARDIM SAPORITO  ...  CENTRO  00000-000   \n",
       "44831  RUA ARLINDO GENARIO DE FREITAJARDIM SAPORITO  ...  CENTRO  00000-000   \n",
       "44832  TSURUKI TSUNO                          JD.CLEM...  CENTRO  01000-000   \n",
       "\n",
       "      zona secao  eleitores  \n",
       "0      001  0252        456  \n",
       "1      001  0253        461  \n",
       "2      001  0254        463  \n",
       "3      001  0255        457  \n",
       "4      001  0256        458  \n",
       "...    ...   ...        ...  \n",
       "44828  416  0083        466  \n",
       "44829  416  0084        462  \n",
       "44830  416  0085        472  \n",
       "44831  416  0086        491  \n",
       "44832  416  0107        334  \n",
       "\n",
       "[44833 rows x 10 columns]"
      ]
     },
     "execution_count": 11,
     "metadata": {},
     "output_type": "execute_result"
    }
   ],
   "source": [
    "df_locais_votacao"
   ]
  },
  {
   "cell_type": "code",
   "execution_count": 12,
   "metadata": {},
   "outputs": [
    {
     "data": {
      "text/plain": [
       "44833"
      ]
     },
     "execution_count": 12,
     "metadata": {},
     "output_type": "execute_result"
    }
   ],
   "source": [
    "sum(valida_secoes)"
   ]
  },
  {
   "cell_type": "code",
   "execution_count": 13,
   "metadata": {},
   "outputs": [
    {
     "data": {
      "text/plain": [
       "23309915"
      ]
     },
     "execution_count": 13,
     "metadata": {},
     "output_type": "execute_result"
    }
   ],
   "source": [
    "sum(valida_eleitores)"
   ]
  },
  {
   "cell_type": "code",
   "execution_count": 14,
   "metadata": {},
   "outputs": [
    {
     "data": {
      "text/plain": [
       "23309915"
      ]
     },
     "execution_count": 14,
     "metadata": {},
     "output_type": "execute_result"
    }
   ],
   "source": [
    "df_locais_votacao.eleitores.sum()"
   ]
  },
  {
   "cell_type": "code",
   "execution_count": 76,
   "metadata": {},
   "outputs": [],
   "source": [
    "df_locais_votacao.to_csv('resultados/locais_de_votacao-1998.csv')"
   ]
  },
  {
   "cell_type": "code",
   "execution_count": null,
   "metadata": {},
   "outputs": [],
   "source": []
  }
 ],
 "metadata": {
  "interpreter": {
   "hash": "ea2b968ac00228365ed79bafe0867b5161bc2bba250da562c14e65e5bf79160e"
  },
  "kernelspec": {
   "display_name": "Python 3.9.12 ('data')",
   "language": "python",
   "name": "python3"
  },
  "language_info": {
   "codemirror_mode": {
    "name": "ipython",
    "version": 3
   },
   "file_extension": ".py",
   "mimetype": "text/x-python",
   "name": "python",
   "nbconvert_exporter": "python",
   "pygments_lexer": "ipython3",
   "version": "3.9.12"
  },
  "orig_nbformat": 4
 },
 "nbformat": 4,
 "nbformat_minor": 2
}
